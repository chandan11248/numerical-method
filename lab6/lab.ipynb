{
 "cells": [
  {
   "cell_type": "markdown",
   "metadata": {},
   "source": [
    "gauss_jordan"
   ]
  },
  {
   "cell_type": "code",
   "execution_count": 24,
   "metadata": {},
   "outputs": [],
   "source": [
    "import numpy as np"
   ]
  },
  {
   "cell_type": "code",
   "execution_count": 31,
   "metadata": {},
   "outputs": [],
   "source": [
    "import numpy as np\n",
    "def gauss_jordan(a, b):\n",
    "    a = a.astype(float)\n",
    "    b = b.astype(float)\n",
    "\n",
    "    if a.shape[0] != a.shape[1]:\n",
    "        raise ValueError(\"Matrix A must be square.\")\n",
    "    if a.shape[0] != b.size:\n",
    "        raise ValueError(\"Length of b must equal number of rows of A.\")\n",
    "\n",
    "    n = b.size\n",
    "    aug = np.hstack([a, b.reshape(-1, 1)])\n",
    "\n",
    "    for i in range(n):\n",
    "        if abs(aug[i, i]) < 1e-12:\n",
    "            swap_row = np.argmax(abs(aug[i:, i])) + i\n",
    "            if abs(aug[swap_row, i]) < 1e-12:\n",
    "                raise ValueError(\"Singular matrix; no unique solution.\")\n",
    "            aug[[i, swap_row]] = aug[[swap_row, i]]\n",
    "\n",
    "        aug[i] /= aug[i, i]        \n",
    "\n",
    "        for j in range(n):\n",
    "            if i != j:\n",
    "                aug[j] -= aug[j, i] * aug[i]\n",
    "\n",
    "    return aug[:, -1]"
   ]
  },
  {
   "cell_type": "code",
   "execution_count": 33,
   "metadata": {},
   "outputs": [
    {
     "name": "stdout",
     "output_type": "stream",
     "text": [
      "[-3.9081579   0.54501987  0.51099248  6.46440754]\n"
     ]
    }
   ],
   "source": [
    "A = np.array([[0.02,  5.52,   2.07,   0.93],\n",
    "              [8.45,  8.45,   5.44,   7.06],\n",
    "              [77.89, 32.56, 40.67,  43.45],\n",
    "              [9.22, 40.81, -143.45, 17.34]])\n",
    "\n",
    "B = np.array([10, 20, 15, 25])\n",
    "\n",
    "print(gauss_jordan(A, B))"
   ]
  },
  {
   "cell_type": "code",
   "execution_count": 35,
   "metadata": {},
   "outputs": [
    {
     "data": {
      "text/plain": [
       "array([[ 2.0000e-02,  5.5200e+00,  2.0700e+00,  9.3000e-01,  1.0000e+01],\n",
       "       [ 8.4500e+00,  8.4500e+00,  5.4400e+00,  7.0600e+00,  2.0000e+01],\n",
       "       [ 7.7890e+01,  3.2560e+01,  4.0670e+01,  4.3450e+01,  1.5000e+01],\n",
       "       [ 9.2200e+00,  4.0810e+01, -1.4345e+02,  1.7340e+01,  2.5000e+01]])"
      ]
     },
     "execution_count": 35,
     "metadata": {},
     "output_type": "execute_result"
    }
   ],
   "source": [
    "aug = np.hstack([A, B.reshape(-1, 1)])\n",
    "aug\n",
    "\n"
   ]
  },
  {
   "cell_type": "markdown",
   "metadata": {},
   "source": [
    "## gauss elimination method "
   ]
  },
  {
   "cell_type": "code",
   "execution_count": null,
   "metadata": {},
   "outputs": [],
   "source": [
    "import numpy as np\n",
    "\n",
    "def gauss_elimination(a, b):\n",
    "    n = len(b)\n",
    "    aug = np.hstack((a.astype(float), b.reshape(-1, 1).astype(float)))\n",
    "\n",
    "    for i in range(n):\n",
    "        for j in range(i+1,n):\n",
    "            if i != j:\n",
    "                factor = aug[j][i] / aug[i][i]\n",
    "                aug[j] = aug[j] - factor * aug[i]\n",
    "    \n",
    "    x = np.zeros(n)\n",
    "    for i in range(n):\n",
    "        x[i] = aug[i][-1] / aug[i][i]\n",
    "    return x\n",
    "\n",
    "\n",
    "\n",
    "A = np.array([\n",
    "    [0.02, 5.52, 2.02],\n",
    "    [8.05, 9.52, 5.96],\n",
    "    [7.89, 3.56, 2.04]\n",
    "])\n",
    "\n",
    "B = np.array([0.98, 20.64, 10.35])\n",
    "\n",
    "solution = gauss_elimination(A, B)\n",
    "print(\"Solution:\")\n",
    "for i, val in enumerate(solution):\n",
    "    print(f\"x{i+1} = {val:.4f}\")"
   ]
  },
  {
   "cell_type": "code",
   "execution_count": 45,
   "metadata": {},
   "outputs": [
    {
     "name": "stdout",
     "output_type": "stream",
     "text": [
      "Solution:\n",
      "x1 = 49.0000\n",
      "x2 = 0.1690\n",
      "x3 = 5.2497\n"
     ]
    }
   ],
   "source": [
    "import numpy as np\n",
    "\n",
    "def gauss_jordan(a, b):\n",
    "    n = len(b)\n",
    "    aug = np.hstack((a.astype(float), b.reshape(-1, 1).astype(float)))\n",
    "\n",
    "    for i in range(n):\n",
    "        \n",
    "        for j in range(i+1,n):\n",
    "            if i != j:\n",
    "                factor = aug[j][i] / aug[i][i]\n",
    "                aug[j] = aug[j] - factor * aug[i]\n",
    "\n",
    "    \n",
    "    x = np.zeros(n)\n",
    "    for i in range(n):\n",
    "        x[i] = aug[i][-1] / aug[i][i]\n",
    "\n",
    "    return x\n",
    "\n",
    "\n",
    "\n",
    "A = np.array([\n",
    "    [0.02, 5.52, 2.02],\n",
    "    [8.05, 9.52, 5.96],\n",
    "    [7.89, 3.56, 2.04]\n",
    "])\n",
    "\n",
    "B = np.array([0.98, 20.64, 10.35])\n",
    "\n",
    "solution = gauss_jordan(A, B)\n",
    "print(\"Solution:\")\n",
    "for i, val in enumerate(solution):\n",
    "    print(f\"x{i+1} = {val:.4f}\")"
   ]
  },
  {
   "cell_type": "code",
   "execution_count": 43,
   "metadata": {},
   "outputs": [],
   "source": [
    "A = np.array([\n",
    "    [0.02, 5.52, 2.02],\n",
    "    [8.05, 9.52, 5.96],\n",
    "    [7.89, 3.56, 2.04]\n",
    "])\n",
    "\n",
    "B = np.array([0.98, 20.64, 10.35])\n",
    "\n",
    "n = len(B)\n",
    "aug = np.hstack((A.astype(float), B.reshape(-1, 1).astype(float)))\n",
    "\n",
    "for i in range(n):\n",
    "        \n",
    "        for j in range(i+1,n):\n",
    "            if i != j:\n",
    "                factor = aug[j][i] / aug[i][i]\n",
    "                aug[j] = aug[j] - factor * aug[i]\n"
   ]
  },
  {
   "cell_type": "code",
   "execution_count": 44,
   "metadata": {},
   "outputs": [
    {
     "data": {
      "text/plain": [
       "array([[ 2.00000000e-02,  5.52000000e+00,  2.02000000e+00,\n",
       "         9.80000000e-01],\n",
       "       [ 0.00000000e+00, -2.21228000e+03, -8.07090000e+02,\n",
       "        -3.73810000e+02],\n",
       "       [-8.88178420e-16,  0.00000000e+00, -1.69622778e+00,\n",
       "        -8.90467210e+00]])"
      ]
     },
     "execution_count": 44,
     "metadata": {},
     "output_type": "execute_result"
    }
   ],
   "source": [
    "aug"
   ]
  },
  {
   "cell_type": "code",
   "execution_count": null,
   "metadata": {},
   "outputs": [],
   "source": [
    "aug"
   ]
  }
 ],
 "metadata": {
  "kernelspec": {
   "display_name": "3.11.9",
   "language": "python",
   "name": "python3"
  },
  "language_info": {
   "codemirror_mode": {
    "name": "ipython",
    "version": 3
   },
   "file_extension": ".py",
   "mimetype": "text/x-python",
   "name": "python",
   "nbconvert_exporter": "python",
   "pygments_lexer": "ipython3",
   "version": "3.11.9"
  }
 },
 "nbformat": 4,
 "nbformat_minor": 2
}
